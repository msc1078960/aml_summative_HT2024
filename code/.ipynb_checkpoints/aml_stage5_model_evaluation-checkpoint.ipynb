{
 "cells": [
  {
   "cell_type": "code",
   "execution_count": 1,
   "id": "e3bdc81a-c051-4e1d-b99a-8f3f36c8d18b",
   "metadata": {},
   "outputs": [],
   "source": [
    "import os, itertools, pickle\n",
    "import pandas as pd\n",
    "import numpy as np\n",
    "\n",
    "from sklearn.preprocessing import StandardScaler\n",
    "from sklearn.pipeline import Pipeline\n",
    "from sklearn.model_selection import GridSearchCV, RandomizedSearchCV\n",
    "from sklearn.metrics import r2_score, mean_squared_error\n",
    "from sklearn.linear_model import Lasso, ElasticNet\n",
    "from sklearn.ensemble import RandomForestClassifier, RandomForestRegressor\n",
    "from sklearn import svm\n",
    "from xgboost import XGBRegressor, XGBClassifier\n",
    "from imblearn.over_sampling import SMOTE\n",
    "from imblearn.combine import SMOTEENN\n",
    "\n",
    "# Hyperparameters: best k features\n",
    "data_dir = os.pardir + '/data/'\n",
    "out_dir = os.pardir + '/output/'"
   ]
  },
  {
   "cell_type": "markdown",
   "id": "865f120c-3cb8-4433-a371-20b1ce281f5b",
   "metadata": {},
   "source": [
    "## Stage 5: Model Evaluation (Out-of-Sample)"
   ]
  },
  {
   "cell_type": "code",
   "execution_count": null,
   "id": "60f559c7-47ff-4600-9b38-6101c455a93e",
   "metadata": {},
   "outputs": [],
   "source": [
    "# Load previously imputed out-of-sample background data (X) using imputation fitted on x_train sample (but not in-sample x_test)\n",
    "x_out_sample_simple = pd.read_csv(data_dir+'x_out_sample_simpleImputed.csv', index_col='challengeID')\n",
    "x_out_sample_knn = pd.read_csv(data_dir+'x_out_sample_knnImputed.csv', index_col='challengeID')\n",
    "out_sample = pd.read_csv(data_dir+'/FFChallenge_v5/test.csv')"
   ]
  },
  {
   "cell_type": "code",
   "execution_count": null,
   "id": "ce87f745-b871-4ee7-8244-39c73b69b56e",
   "metadata": {},
   "outputs": [],
   "source": [
    "with open(data_dir+'outcome_global_best_dict_gpa.pkl', 'rb') as f:\n",
    "    outcome_global_best_dict_gpa = pickle.load(f)\n",
    "\n",
    "with open(data_dir+'meta_param_res_dict_gpa.pkl', 'rb') as f:\n",
    "    meta_param_res_dict_gpa = pickle.load(f) "
   ]
  },
  {
   "cell_type": "code",
   "execution_count": null,
   "id": "ebf2da19-2bb7-407a-b6ab-15a831653930",
   "metadata": {},
   "outputs": [],
   "source": [
    "# with open(data_dir+'outcome_global_best_dict_gpa.pkl', 'rb') as f:\n",
    "#     outcome_global_best_dict_gpa = pickle.load(f)\n",
    "\n",
    "# with open(data_dir+'meta_param_res_dict_gpa.pkl', 'rb') as f:\n",
    "#     meta_param_res_dict_gpa = pickle.load(f)\n",
    "\n",
    "\n",
    "#print(meta_params_gpa[outcome_global_best_dict_gpa['gpa']['best_metaparams_idx']])\n",
    "#estimator = outcome_global_best_dict_gpa['gpa']['best_model']['model'].best_estimator_  \n",
    "# lasso\n",
    "\n",
    "\n",
    "outcome = 'grit'\n",
    "estimator_lasso = meta_param_res_dict_grit[outcome_global_best_dict_grit[outcome]['best_metaparams_idx']]['model_res_dict'][0]['model'].best_estimator_\n",
    "estimator_elastic = meta_param_res_dict_grit[outcome_global_best_dict_grit[outcome]['best_metaparams_idx']]['model_res_dict'][1]['model'].best_estimator_\n",
    "estimator_svm = meta_param_res_dict_grit[outcome_global_best_dict_grit[outcome]['best_metaparams_idx']]['model_res_dict'][2]['model'].best_estimator_\n",
    "estimator_rf = meta_param_res_dict_grit[outcome_global_best_dict_grit[outcome]['best_metaparams_idx']]['model_res_dict'][3]['model'].best_estimator_\n",
    "estimator_xgb = meta_param_res_dict_grit[outcome_global_best_dict_grit[outcome]['best_metaparams_idx']]['model_res_dict'][4]['model'].best_estimator_\n",
    "\n",
    "estimator_lst = [ estimator_lasso, estimator_elastic, estimator_svm, estimator_rf, estimator_xgb ]\n",
    "\n",
    "data = imputation_method_dict['knn']['data']\n",
    "x_train, x_test, train = data\n",
    "y_train = train.loc[x_train.index.values]\n",
    "y_train = y_train[outcome].dropna()\n",
    "x_train = x_train.loc[y_train.index.values]\n",
    "y_out_sample = out_sample.loc[x_out_sample_simple.index.values]\n",
    "y_out_sample = y_out_sample[outcome].dropna()\n",
    "x_out_sample_simple = x_out_sample_simple.loc[y_out_sample.index.values]\n",
    "\n",
    "cat_vars = [var for var in features[(features['type'] == 'Unordered Categorical') | (features['type'] == 'Ordered Categorical')].variable if var in x_out_sample_simple.columns]\n",
    "features_lst = [ var for var in list(imputation_method_dict['simple']['features_selected_dict']['lasso'][outcome]) if var in x_out_sample_simple.columns ]\n",
    "normalizer = StandardScaler()\n",
    "cont_vars =  [ var for var in features[features['type'] == 'Continuous'].variable if var in x_out_sample_simple.columns ]\n",
    "for var in cont_vars:\n",
    "    normalizer.fit(x_out_sample_simple[var].values.reshape(-1,1))\n",
    "    x_out_sample_simple[var] = normalizer.transform(x_out_sample_simple[var].values.reshape(-1,1)) \n",
    "\n",
    "x_test2 = x_out_sample_simple[features_lst]\n",
    " \n",
    "for idx, model in enumerate(estimator_lst):\n",
    "    y_pred = model.predict(x_test2)\n",
    "    print(f\"Out-sample R2-holdout for {model_label_dict[idx]}: {r2_holdout_score(y_out_sample, y_pred, y_train)}\")\n",
    "    print(f\"Out-sample MSE for {mean_squared_error(y_out_sample, y_pred)}\")"
   ]
  }
 ],
 "metadata": {
  "kernelspec": {
   "display_name": "Python 3 (ipykernel)",
   "language": "python",
   "name": "python3"
  },
  "language_info": {
   "codemirror_mode": {
    "name": "ipython",
    "version": 3
   },
   "file_extension": ".py",
   "mimetype": "text/x-python",
   "name": "python",
   "nbconvert_exporter": "python",
   "pygments_lexer": "ipython3",
   "version": "3.10.12"
  }
 },
 "nbformat": 4,
 "nbformat_minor": 5
}
